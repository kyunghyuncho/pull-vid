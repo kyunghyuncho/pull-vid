{
 "cells": [
  {
   "cell_type": "code",
   "execution_count": 39,
   "metadata": {},
   "outputs": [],
   "source": [
    "%matplotlib widget"
   ]
  },
  {
   "cell_type": "code",
   "execution_count": 40,
   "metadata": {},
   "outputs": [],
   "source": [
    "from matplotlib import pyplot as plot"
   ]
  },
  {
   "cell_type": "code",
   "execution_count": 41,
   "metadata": {},
   "outputs": [],
   "source": [
    "import numpy"
   ]
  },
  {
   "cell_type": "code",
   "execution_count": 42,
   "metadata": {},
   "outputs": [],
   "source": [
    "import torch\n",
    "from torch import nn\n",
    "from torch import distributions\n",
    "import torch.optim"
   ]
  },
  {
   "cell_type": "code",
   "execution_count": 43,
   "metadata": {},
   "outputs": [
    {
     "data": {
      "application/vnd.jupyter.widget-view+json": {
       "model_id": "e4ddc0bb4f5241b8b6f25b5c95d4284f",
       "version_major": 2,
       "version_minor": 0
      },
      "text/plain": [
       "FigureCanvasNbAgg()"
      ]
     },
     "metadata": {},
     "output_type": "display_data"
    }
   ],
   "source": [
    "'''\n",
    "create a fake data assuming HMM with two latent states\n",
    "'''\n",
    "seqlen = 1000\n",
    "pi_true = numpy.array([[0.95, 0.05], [0.1, 0.9]])\n",
    "mu_true = numpy.ones(2) * [0.3, 3.0]\n",
    "z0_true = numpy.int(numpy.random.rand() > 0.5)\n",
    "z = [z0_true]\n",
    "x = []\n",
    "for t in range(seqlen):\n",
    "    x.append(numpy.random.poisson(mu_true[z[-1]]))\n",
    "    if t < seqlen - 1:\n",
    "        z.append(numpy.random.multinomial(1, pi_true[z[-1]]).argmax())\n",
    "obs_sequence = x\n",
    "    \n",
    "plot.figure()\n",
    "plot.plot(numpy.arange(len(x))+1, x, 'r-')\n",
    "plot.plot(numpy.arange(len(z)), z, 'b-')\n",
    "plot.grid(True)\n",
    "plot.legend(['obs', 'latent'])\n",
    "plot.show()"
   ]
  },
  {
   "cell_type": "code",
   "execution_count": 183,
   "metadata": {},
   "outputs": [],
   "source": [
    "'''\n",
    "a single sequence Poison-HMM: it supports a single sequence.\n",
    "\n",
    "it is a very inefficient implementation of forward-backward algorithm and viterbi algorithm.\n",
    "\n",
    "TODO:\n",
    "\n",
    "1. indexes must be double- and triple-checked.\n",
    "2. optimize\n",
    "'''\n",
    "class PoissonHMM(nn.Module):\n",
    "    def __init__(self, n_states=2):\n",
    "        super(PoissonHMM, self).__init__()\n",
    "        \n",
    "        self.n_states = n_states\n",
    "        \n",
    "        self.upi = nn.Parameter(torch.from_numpy(numpy.random.randn(n_states, n_states)).float())\n",
    "        self.upi0 = nn.Parameter(torch.from_numpy(numpy.ones(n_states)).float())\n",
    "        self.urate = nn.Parameter(torch.from_numpy(numpy.random.rand(n_states)).float())\n",
    "#         self.urate_scale = nn.Parameter(torch.from_numpy(numpy.random.rand(n_states)).float())\n",
    "        \n",
    "\n",
    "    def _prep(self, reverse=False):\n",
    "        upi_ = torch.softmax(self.upi, dim=1)\n",
    "        \n",
    "        transitions = []\n",
    "        emissions = []\n",
    "        for si in range(self.n_states):\n",
    "            if reverse:\n",
    "                transitions.append(distributions.Categorical(upi_[:,si]))\n",
    "            else:\n",
    "                transitions.append(distributions.Categorical(upi_[si]))\n",
    "#             emissions.append(distributions.Poisson(torch.log(1+torch.exp(self.urate[si]))))\n",
    "            emissions.append(distributions.Normal(self.urate[si],1.))\n",
    "        \n",
    "        upi0_ = torch.exp(self.upi0 - torch.logsumexp(self.upi0, 0))\n",
    "        initial = distributions.Categorical(upi0_)\n",
    "\n",
    "        return transitions, emissions, initial\n",
    "        \n",
    "    def generate(self, n_steps=100):\n",
    "        zs = []\n",
    "        xs = []\n",
    "        \n",
    "        transitions, emissions, initial = self._prep()\n",
    "        \n",
    "        for t in range(n_steps):\n",
    "            if t == 0:\n",
    "                zs.append(initial.sample())\n",
    "            else:\n",
    "                zs.append(transitions[zs[-1].item()].sample())\n",
    "            xs.append(emissions[zs[-1].item()].sample())\n",
    "            \n",
    "        return zs, xs\n",
    "    \n",
    "    def _viterbi(self, obs, agg='max', prev=None):\n",
    "        seqlen = len(obs)\n",
    "        \n",
    "        scores = []\n",
    "        if agg == 'max':\n",
    "            pointers = []\n",
    "        \n",
    "        transitions, emissions, initial = self._prep(reverse=prev is not None)\n",
    "        \n",
    "        if prev is None:\n",
    "            prev = initial.probs\n",
    "            \n",
    "        for t in range(seqlen):\n",
    "            # observation probability\n",
    "            logp_obs = []\n",
    "            for st in range(self.n_states): # old state\n",
    "                logp_obs.append(emissions[st].log_prob(obs[t])) \n",
    "            logp_obs = torch.stack(logp_obs)\n",
    "            logp_tra = []\n",
    "            for st0 in range(self.n_states): # old state\n",
    "                logp_tra.append([])\n",
    "                for st1 in range(self.n_states): # new state\n",
    "                    logp_tra[-1].append(torch.log(1e-8+transitions[st0].probs[st1]))\n",
    "                logp_tra[-1] = torch.stack(logp_tra[-1])\n",
    "            logp_tra = torch.stack(logp_tra) # old state (rows) x new state (columns)\n",
    "            # combine them\n",
    "            if agg == 'max':\n",
    "                prev, prev_id = torch.max(logp_tra + logp_obs.view(-1,1) + prev.view(-1, 1), dim=0) # find the best old state\n",
    "                scores.append(prev)\n",
    "                pointers.append(prev_id)\n",
    "            elif agg == 'sum':\n",
    "                prev = torch.logsumexp(logp_tra + logp_obs.view(-1,1) + prev.view(-1, 1), dim=0) # find the best old state\n",
    "                scores.append(prev)\n",
    "            else:\n",
    "                raise Exception('NOT SUPPORTED')\n",
    "        \n",
    "        if agg == 'max':\n",
    "            # max score\n",
    "            logp, idx = scores[-1].max(), scores[-1].argmax()\n",
    "            backtracked = [pointers[-1][idx]]\n",
    "            for t in range(seqlen-1):\n",
    "                backtracked.append(pointers[-t][backtracked[-1]])\n",
    "\n",
    "            return logp, backtracked[::-1]\n",
    "        elif agg == 'sum':\n",
    "            return scores\n",
    "        else: \n",
    "            raise Exception('NOT SUPPORTED')\n",
    "       \n",
    "    def viterbi(self, obs):\n",
    "        return self._viterbi(obs, agg='max')\n",
    "    \n",
    " \n",
    "    def forward_backward(self, obs):\n",
    "        seqlen = len(obs)\n",
    "        \n",
    "        scores = []\n",
    "        pointers = []\n",
    "        \n",
    "        alphas = torch.stack(self._viterbi(obs, agg='sum'))\n",
    "        betas = torch.stack(self._viterbi(torch.flip(obs, [0]), agg='sum', prev=alphas[-1]))\n",
    "        \n",
    "        return torch.logsumexp(alphas + betas, dim=1).mean()"
   ]
  },
  {
   "cell_type": "code",
   "execution_count": 189,
   "metadata": {},
   "outputs": [],
   "source": [
    "phmm = PoissonHMM(n_states=2)"
   ]
  },
  {
   "cell_type": "code",
   "execution_count": 190,
   "metadata": {},
   "outputs": [],
   "source": [
    "obs_sequence = numpy.array([13,  7,  6, 10,  9,  5,  5,  7,  6,  5,  3,  6,  3, 10,  8, 10, 14,\n",
    "      14, 11,  7,  8,  6,  7,  7,  6,  5,  5,  6,  7, 10,  6,  4,  7,  8,\n",
    "       5,  8, 11,  8,  7,  7,  6,  7,  2,  4,  5,  5,  5,  3,  6,  5,  9,\n",
    "       3,  5,  7,  8,  8,  8,  7, 10,  8, 10,  9, 10,  7, 11,  9, 10, 10,\n",
    "      11,  7,  8,  9,  9,  7,  7,  5,  8, 11, 10,  7,  5,  9,  6,  6,  9,\n",
    "       4,  8, 11,  5, 11,  2,  4,  9,  7,  6,  6,  7,  7,  8,  5,  8,  8,\n",
    "      10,  9,  4,  3,  3,  7,  2,  2,  5,  4,  6,  7,  3,  5,  4,  4,  4,\n",
    "       4,  4,  8,  6,  8, 10, 10,  6,  8,  5,  8,  6,  9,  7,  8,  5,  4,\n",
    "       6,  7,  3,  4,  5,  6,  5,  4])"
   ]
  },
  {
   "cell_type": "code",
   "execution_count": 191,
   "metadata": {},
   "outputs": [
    {
     "name": "stdout",
     "output_type": "stream",
     "text": [
      "Step\tLoss\n",
      "1 6503.5947265625\n",
      "2 744.3103637695312\n",
      "3 744.3214111328125\n",
      "4 744.3217163085938\n",
      "5 744.3218383789062\n",
      "6 744.322021484375\n",
      "7 744.3215942382812\n",
      "8 744.3214721679688\n",
      "9 744.3215942382812\n",
      "10 744.3214111328125\n"
     ]
    }
   ],
   "source": [
    "'''\n",
    "it sometimes fails with nan. debug it.\n",
    "'''\n",
    "n_steps = 10\n",
    "disp_inter = 1\n",
    "l2coeff = .5\n",
    "\n",
    "optimizer = torch.optim.LBFGS(phmm.parameters())\n",
    "\n",
    "print('Step\\tLoss')\n",
    "# counter = 0\n",
    "for ni in range(n_steps):    \n",
    "    def closure():\n",
    "        optimizer.zero_grad()\n",
    "        logp = phmm.forward_backward(torch.from_numpy(numpy.array(obs_sequence)).float())\n",
    "        loss = -logp\n",
    "        loss = (1.-l2coeff) * loss + l2coeff * sum([(param ** 2).sum() for param in phmm.parameters()])\n",
    "        loss.backward()\n",
    "        return loss\n",
    "    if numpy.mod(ni, disp_inter) == 0:\n",
    "        logp = phmm.forward_backward(torch.from_numpy(numpy.array(obs_sequence)).float())\n",
    "        print('{} {}'.format(ni+1, -logp))\n",
    "    \n",
    "    optimizer.step(closure)"
   ]
  },
  {
   "cell_type": "code",
   "execution_count": 192,
   "metadata": {},
   "outputs": [],
   "source": [
    "sorted_idx = numpy.argsort(phmm.urate.data.numpy())"
   ]
  },
  {
   "cell_type": "code",
   "execution_count": 193,
   "metadata": {},
   "outputs": [
    {
     "name": "stderr",
     "output_type": "stream",
     "text": [
      "/Users/kyunghyuncho/anaconda2/envs/py36/lib/python3.6/site-packages/matplotlib/pyplot.py:522: RuntimeWarning: More than 20 figures have been opened. Figures created through the pyplot interface (`matplotlib.pyplot.figure`) are retained until explicitly closed and may consume too much memory. (To control this warning, see the rcParam `figure.max_open_warning`).\n",
      "  max_open_warning, RuntimeWarning)\n"
     ]
    },
    {
     "data": {
      "application/vnd.jupyter.widget-view+json": {
       "model_id": "77bcadf93b5f4b28a50597a4394571a4",
       "version_major": 2,
       "version_minor": 0
      },
      "text/plain": [
       "FigureCanvasNbAgg()"
      ]
     },
     "metadata": {},
     "output_type": "display_data"
    }
   ],
   "source": [
    "logp, inferred = phmm.viterbi(torch.from_numpy(numpy.array(obs_sequence)).float())\n",
    "\n",
    "# let's plot\n",
    "plot.figure()\n",
    "\n",
    "plot.plot(numpy.arange(len(obs_sequence)), obs_sequence, 'k-')\n",
    "# plot.plot(numpy.arange(len(z)), numpy.array(z), 'r--')\n",
    "plot.plot(numpy.arange(len(inferred)), [sorted_idx[iz.item()] for iz in inferred], 'b--')\n",
    "plot.legend(['observed', \n",
    "#              'true latent', \n",
    "             'inferred latent'])\n",
    "plot.grid(True)\n",
    "plot.show()"
   ]
  },
  {
   "cell_type": "code",
   "execution_count": 194,
   "metadata": {},
   "outputs": [
    {
     "name": "stdout",
     "output_type": "stream",
     "text": [
      "Transition matrix\n",
      "\tEstimated\n",
      "[[0.66147995 0.33852005]\n",
      " [0.31218347 0.68781656]]\n",
      "Gaussian mean\n",
      "\tEstimated\n",
      "[4.7399683 8.589926 ]\n"
     ]
    }
   ],
   "source": [
    "print('Transition matrix')\n",
    "# print('\\tTrue')\n",
    "# print(pi_true)\n",
    "print('\\tEstimated')\n",
    "print(torch.softmax(phmm.upi, 1).data.numpy())\n",
    "\n",
    "# print('Poison rate')\n",
    "# # print('\\tTrue')\n",
    "# # print(mu_true)\n",
    "# print('\\tEstimated')\n",
    "# print(torch.log(1+torch.exp(phmm.urate)).data.numpy())\n",
    "\n",
    "print('Gaussian mean')\n",
    "# print('\\tTrue')\n",
    "# print(mu_true)\n",
    "print('\\tEstimated')\n",
    "print(phmm.urate.data.numpy())"
   ]
  },
  {
   "cell_type": "code",
   "execution_count": null,
   "metadata": {},
   "outputs": [],
   "source": [
    "\n"
   ]
  },
  {
   "cell_type": "code",
   "execution_count": null,
   "metadata": {},
   "outputs": [],
   "source": []
  },
  {
   "cell_type": "code",
   "execution_count": null,
   "metadata": {},
   "outputs": [],
   "source": []
  },
  {
   "cell_type": "code",
   "execution_count": null,
   "metadata": {},
   "outputs": [],
   "source": []
  }
 ],
 "metadata": {
  "kernelspec": {
   "display_name": "Python 3",
   "language": "python",
   "name": "python3"
  },
  "language_info": {
   "codemirror_mode": {
    "name": "ipython",
    "version": 3
   },
   "file_extension": ".py",
   "mimetype": "text/x-python",
   "name": "python",
   "nbconvert_exporter": "python",
   "pygments_lexer": "ipython3",
   "version": "3.6.7"
  }
 },
 "nbformat": 4,
 "nbformat_minor": 2
}
