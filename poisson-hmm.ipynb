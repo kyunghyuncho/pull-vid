{
 "cells": [
  {
   "cell_type": "code",
   "execution_count": 14,
   "metadata": {},
   "outputs": [],
   "source": [
    "%matplotlib widget"
   ]
  },
  {
   "cell_type": "code",
   "execution_count": 15,
   "metadata": {},
   "outputs": [],
   "source": [
    "from matplotlib import pyplot as plot"
   ]
  },
  {
   "cell_type": "code",
   "execution_count": 16,
   "metadata": {},
   "outputs": [],
   "source": [
    "import numpy"
   ]
  },
  {
   "cell_type": "code",
   "execution_count": 17,
   "metadata": {},
   "outputs": [],
   "source": [
    "import torch\n",
    "from torch import nn\n",
    "from torch import distributions\n",
    "import torch.optim"
   ]
  },
  {
   "cell_type": "code",
   "execution_count": 18,
   "metadata": {},
   "outputs": [
    {
     "data": {
      "application/vnd.jupyter.widget-view+json": {
       "model_id": "23b5e51a2a57491d8a012dda155a4352",
       "version_major": 2,
       "version_minor": 0
      },
      "text/plain": [
       "FigureCanvasNbAgg()"
      ]
     },
     "metadata": {},
     "output_type": "display_data"
    }
   ],
   "source": [
    "'''\n",
    "create a fake data assuming HMM with two latent states\n",
    "'''\n",
    "seqlen = 500\n",
    "pi_true = numpy.array([[0.95, 0.05], [0.1, 0.9]])\n",
    "mu_true = numpy.ones(2) * [0.3, 3.0]\n",
    "z0_true = numpy.int(numpy.random.rand() > 0.5)\n",
    "z = [z0_true]\n",
    "x = []\n",
    "for t in range(seqlen):\n",
    "    x.append(numpy.random.poisson(mu_true[z[-1]]))\n",
    "    if t < seqlen - 1:\n",
    "        z.append(numpy.random.multinomial(1, pi_true[z[-1]]).argmax())\n",
    "obs_sequence = x\n",
    "    \n",
    "plot.figure()\n",
    "plot.plot(numpy.arange(len(x))+1, x, 'r-')\n",
    "plot.plot(numpy.arange(len(z)), z, 'b-')\n",
    "plot.grid(True)\n",
    "plot.legend(['obs', 'latent'])\n",
    "plot.show()"
   ]
  },
  {
   "cell_type": "code",
   "execution_count": 19,
   "metadata": {},
   "outputs": [],
   "source": [
    "'''\n",
    "a single sequence Poison-HMM: it supports a single sequence.\n",
    "\n",
    "it is a very inefficient implementation of forward-backward algorithm and viterbi algorithm.\n",
    "\n",
    "TODO:\n",
    "\n",
    "1. indexes must be double- and triple-checked.\n",
    "2. optimize\n",
    "'''\n",
    "class PoissonHMM(nn.Module):\n",
    "    def __init__(self, n_states=2):\n",
    "        super(PoissonHMM, self).__init__()\n",
    "        \n",
    "        self.n_states = n_states\n",
    "        \n",
    "        self.upi = nn.Parameter(torch.from_numpy(numpy.random.randn(n_states, n_states)).float())\n",
    "        self.urate = nn.Parameter(torch.from_numpy(numpy.random.randn(n_states)).float())\n",
    "        self.upi0 = nn.Parameter(torch.from_numpy(numpy.ones(n_states)).float())\n",
    "        \n",
    "\n",
    "    def _prep(self, reverse=False):\n",
    "        upi_ = torch.softmax(self.upi, dim=1)\n",
    "        \n",
    "        transitions = []\n",
    "        emissions = []\n",
    "        for si in range(self.n_states):\n",
    "            if reverse:\n",
    "                transitions.append(distributions.Categorical(upi_[:,si]))\n",
    "            else:\n",
    "                transitions.append(distributions.Categorical(upi_[si]))\n",
    "            emissions.append(distributions.Poisson(torch.log(1+torch.exp(self.urate[si]))))\n",
    "        \n",
    "        upi0_ = torch.exp(self.upi0 - torch.logsumexp(self.upi0, 0))\n",
    "        initial = distributions.Categorical(upi0_)\n",
    "\n",
    "        return transitions, emissions, initial\n",
    "        \n",
    "    def generate(self, n_steps=100):\n",
    "        zs = []\n",
    "        xs = []\n",
    "        \n",
    "        transitions, emissions, initial = self._prep()\n",
    "        \n",
    "        for t in range(n_steps):\n",
    "            if t == 0:\n",
    "                zs.append(initial.sample())\n",
    "            else:\n",
    "                zs.append(transitions[zs[-1].item()].sample())\n",
    "            xs.append(emissions[zs[-1].item()].sample())\n",
    "            \n",
    "        return zs, xs\n",
    "    \n",
    "    def _viterbi(self, obs, agg='max', prev=None):\n",
    "        seqlen = len(obs)\n",
    "        \n",
    "        scores = []\n",
    "        if agg == 'max':\n",
    "            pointers = []\n",
    "        \n",
    "        transitions, emissions, initial = self._prep(reverse=prev is not None)\n",
    "        \n",
    "        if prev is None:\n",
    "            prev = initial.probs\n",
    "            \n",
    "        for t in range(seqlen):\n",
    "            # observation probability\n",
    "            logp_obs = []\n",
    "            for st in range(self.n_states): # old state\n",
    "                logp_obs.append(emissions[st].log_prob(obs[t])) \n",
    "            logp_obs = torch.stack(logp_obs)\n",
    "            logp_tra = []\n",
    "            for st0 in range(self.n_states): # old state\n",
    "                logp_tra.append([])\n",
    "                for st1 in range(self.n_states): # new state\n",
    "                    logp_tra[-1].append(torch.log(1e-8+transitions[st0].probs[st1]))\n",
    "                logp_tra[-1] = torch.stack(logp_tra[-1])\n",
    "            logp_tra = torch.stack(logp_tra) # old state (rows) x new state (columns)\n",
    "            # combine them\n",
    "            if agg == 'max':\n",
    "                prev, prev_id = torch.max(logp_tra + logp_obs.view(-1,1) + prev.view(-1, 1), dim=0) # find the best old state\n",
    "                scores.append(prev)\n",
    "                pointers.append(prev_id)\n",
    "            elif agg == 'sum':\n",
    "                prev = torch.logsumexp(logp_tra + logp_obs.view(-1,1) + prev.view(-1, 1), dim=0) # find the best old state\n",
    "                scores.append(prev)\n",
    "            else:\n",
    "                raise Exception('NOT SUPPORTED')\n",
    "        \n",
    "        if agg == 'max':\n",
    "            # max score\n",
    "            logp, idx = scores[-1].max(), scores[-1].argmax()\n",
    "            backtracked = [pointers[-1][idx]]\n",
    "            for t in range(seqlen-1):\n",
    "                backtracked.append(pointers[-t][backtracked[-1]])\n",
    "\n",
    "            return logp, backtracked[::-1]\n",
    "        elif agg == 'sum':\n",
    "            return scores\n",
    "        else: \n",
    "            raise Exception('NOT SUPPORTED')\n",
    "       \n",
    "    def viterbi(self, obs):\n",
    "        return self._viterbi(obs, agg='max')\n",
    "    \n",
    " \n",
    "    def forward_backward(self, obs):\n",
    "        seqlen = len(obs)\n",
    "        \n",
    "        scores = []\n",
    "        pointers = []\n",
    "        \n",
    "        alphas = torch.stack(self._viterbi(obs, agg='sum'))\n",
    "        betas = torch.stack(self._viterbi(torch.flip(obs, [0]), agg='sum', prev=alphas[-1]))\n",
    "        \n",
    "        return (alphas + betas).sum(dim=1).mean()"
   ]
  },
  {
   "cell_type": "code",
   "execution_count": 20,
   "metadata": {},
   "outputs": [],
   "source": [
    "phmm = PoissonHMM(n_states=2)"
   ]
  },
  {
   "cell_type": "code",
   "execution_count": 21,
   "metadata": {},
   "outputs": [
    {
     "name": "stdout",
     "output_type": "stream",
     "text": [
      "Step\tLoss\n",
      "1 1748806.125\n",
      "2 1290449.75\n",
      "3 1290447.75\n",
      "4 1290447.75\n",
      "5 1290447.0\n",
      "6 1290447.75\n",
      "7 1290447.5\n",
      "8 1290446.875\n",
      "9 1290446.875\n",
      "10 1290446.875\n"
     ]
    }
   ],
   "source": [
    "'''\n",
    "it sometimes fails with nan. debug it.\n",
    "'''\n",
    "n_steps = 10\n",
    "disp_inter = 1\n",
    "\n",
    "optimizer = torch.optim.LBFGS(phmm.parameters())\n",
    "\n",
    "print('Step\\tLoss')\n",
    "# counter = 0\n",
    "for ni in range(n_steps):    \n",
    "    def closure():\n",
    "        optimizer.zero_grad()\n",
    "        logp = phmm.forward_backward(torch.from_numpy(numpy.array(obs_sequence)).float())\n",
    "        loss = -logp\n",
    "        loss.backward()\n",
    "        return loss\n",
    "    if numpy.mod(ni, disp_inter) == 0:\n",
    "        logp = phmm.forward_backward(torch.from_numpy(numpy.array(obs_sequence)).float())\n",
    "        print('{} {}'.format(ni+1, -logp))\n",
    "    \n",
    "    optimizer.step(closure)"
   ]
  },
  {
   "cell_type": "code",
   "execution_count": 22,
   "metadata": {},
   "outputs": [
    {
     "data": {
      "application/vnd.jupyter.widget-view+json": {
       "model_id": "de93a0adb3d14146a8d11dfd2176b73a",
       "version_major": 2,
       "version_minor": 0
      },
      "text/plain": [
       "FigureCanvasNbAgg()"
      ]
     },
     "metadata": {},
     "output_type": "display_data"
    }
   ],
   "source": [
    "logp, inferred = phmm.viterbi(torch.from_numpy(numpy.array(obs_sequence)).float())\n",
    "\n",
    "# let's plot\n",
    "plot.figure()\n",
    "\n",
    "plot.plot(numpy.arange(len(obs_sequence)), obs_sequence, 'k-')\n",
    "plot.plot(numpy.arange(len(z)), numpy.array(z)-1, 'r--')\n",
    "plot.plot(numpy.arange(len(inferred)), [iz.item()-1 for iz in inferred], 'b--')\n",
    "plot.legend(['observed', 'true latent', 'inferred latent'])\n",
    "plot.grid(True)\n",
    "plot.show()"
   ]
  },
  {
   "cell_type": "code",
   "execution_count": 23,
   "metadata": {},
   "outputs": [
    {
     "name": "stdout",
     "output_type": "stream",
     "text": [
      "Transition matrix\n",
      "\tTrue\n",
      "[[0.95 0.05]\n",
      " [0.1  0.9 ]]\n",
      "\tEstimated\n",
      "[[0.94299453 0.05700541]\n",
      " [0.08822832 0.9117717 ]]\n",
      "Poison rate\n",
      "\tTrue\n",
      "[0.3 3. ]\n",
      "\tEstimated\n",
      "[ 0.36258495 18.782112  ]\n"
     ]
    }
   ],
   "source": [
    "print('Transition matrix')\n",
    "print('\\tTrue')\n",
    "print(pi_true)\n",
    "print('\\tEstimated')\n",
    "print(torch.softmax(phmm.upi, 1).data.numpy())\n",
    "\n",
    "print('Poison rate')\n",
    "print('\\tTrue')\n",
    "print(mu_true)\n",
    "print('\\tEstimated')\n",
    "print(torch.exp(phmm.urate).data.numpy())"
   ]
  },
  {
   "cell_type": "code",
   "execution_count": null,
   "metadata": {},
   "outputs": [],
   "source": []
  }
 ],
 "metadata": {
  "kernelspec": {
   "display_name": "Python 3",
   "language": "python",
   "name": "python3"
  },
  "language_info": {
   "codemirror_mode": {
    "name": "ipython",
    "version": 3
   },
   "file_extension": ".py",
   "mimetype": "text/x-python",
   "name": "python",
   "nbconvert_exporter": "python",
   "pygments_lexer": "ipython3",
   "version": "3.6.7"
  }
 },
 "nbformat": 4,
 "nbformat_minor": 2
}
